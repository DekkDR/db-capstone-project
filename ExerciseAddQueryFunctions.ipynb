{
 "cells": [
  {
   "cell_type": "code",
   "execution_count": 7,
   "id": "582067e2",
   "metadata": {},
   "outputs": [],
   "source": [
    "# Import mysql connector and connect to the data base\n",
    "import mysql.connector as connector\n",
    "\n",
    "connection=connector.connect(user=\"root\",password=\"\",db = \"LittleLemonDB\")\n",
    "\n",
    "cursor=connection.cursor()\n"
   ]
  },
  {
   "cell_type": "code",
   "execution_count": 8,
   "id": "63c00fb9",
   "metadata": {},
   "outputs": [],
   "source": [
    "show_tables_query = \"SHOW tables\"\n",
    "cursor.execute(show_tables_query)\n",
    "results = cursor.fetchall()"
   ]
  },
  {
   "cell_type": "code",
   "execution_count": 9,
   "id": "81077252",
   "metadata": {},
   "outputs": [
    {
     "name": "stdout",
     "output_type": "stream",
     "text": [
      "[('Bookings',), ('BookingStatus',), ('Customers',), ('MenuItems',), ('Menus',), ('Orders',), ('OrderStatus',), ('ordersview',)]\n"
     ]
    }
   ],
   "source": [
    "print(results)"
   ]
  },
  {
   "cell_type": "code",
   "execution_count": 10,
   "id": "d74d1fb0",
   "metadata": {},
   "outputs": [],
   "source": [
    "query = '''SELECT Customers.CustomerName, Orders.Sales FROM Orders\n",
    "        INNER JOIN Customers\n",
    "        ON Customers.CustomerID = Orders.CustomerID\n",
    "        WHERE Orders.Sales > 60'''"
   ]
  },
  {
   "cell_type": "code",
   "execution_count": 11,
   "id": "2df3edaf",
   "metadata": {},
   "outputs": [],
   "source": [
    "cursor.execute(query)\n",
    "results = cursor.fetchall()"
   ]
  },
  {
   "cell_type": "code",
   "execution_count": 14,
   "id": "03242861",
   "metadata": {},
   "outputs": [
    {
     "name": "stdout",
     "output_type": "stream",
     "text": [
      "('CustomerName', 'Sales')\n",
      "('Pansie Alldis', Decimal('252.41'))\n",
      "('Xymenes Hands', Decimal('139.70'))\n",
      "('Lulu Hastin', Decimal('352.50'))\n",
      "('Salvidor Francesch', Decimal('315.00'))\n",
      "('Noni Quickenden', Decimal('480.00'))\n",
      "('Jilleen Foux', Decimal('186.93'))\n",
      "('Grenville Hyne', Decimal('216.14'))\n",
      "('Ram Sinclaire', Decimal('152.40'))\n",
      "('Jilly Bursnoll', Decimal('330.00'))\n",
      "('Gabe Boyan', Decimal('139.70'))\n"
     ]
    }
   ],
   "source": [
    "print(cursor.column_names)\n",
    "for i in range(10): #printout only first 10 results\n",
    "    print(results[i])"
   ]
  },
  {
   "cell_type": "code",
   "execution_count": null,
   "id": "851666f4",
   "metadata": {},
   "outputs": [],
   "source": []
  }
 ],
 "metadata": {
  "kernelspec": {
   "display_name": "Python 3 (ipykernel)",
   "language": "python",
   "name": "python3"
  },
  "language_info": {
   "codemirror_mode": {
    "name": "ipython",
    "version": 3
   },
   "file_extension": ".py",
   "mimetype": "text/x-python",
   "name": "python",
   "nbconvert_exporter": "python",
   "pygments_lexer": "ipython3",
   "version": "3.10.11"
  }
 },
 "nbformat": 4,
 "nbformat_minor": 5
}
