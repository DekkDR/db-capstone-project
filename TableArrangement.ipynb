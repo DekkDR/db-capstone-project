{
 "cells": [
  {
   "cell_type": "code",
   "execution_count": 1,
   "id": "d2ae9ea3",
   "metadata": {},
   "outputs": [],
   "source": [
    "# Import pandas for working with tables conveniently\n",
    "import pandas as pd"
   ]
  },
  {
   "cell_type": "markdown",
   "id": "9505e14c",
   "metadata": {},
   "source": [
    "### Create and arrange tables for little lemon data base"
   ]
  },
  {
   "cell_type": "code",
   "execution_count": 2,
   "id": "13393db2",
   "metadata": {},
   "outputs": [],
   "source": [
    "# Create new table from csv file\n",
    "main_table = pd.read_csv('LittleLemon_data.csv')"
   ]
  },
  {
   "cell_type": "code",
   "execution_count": 3,
   "id": "173ad345",
   "metadata": {
    "scrolled": true
   },
   "outputs": [
    {
     "data": {
      "text/html": [
       "<div>\n",
       "<style scoped>\n",
       "    .dataframe tbody tr th:only-of-type {\n",
       "        vertical-align: middle;\n",
       "    }\n",
       "\n",
       "    .dataframe tbody tr th {\n",
       "        vertical-align: top;\n",
       "    }\n",
       "\n",
       "    .dataframe thead th {\n",
       "        text-align: right;\n",
       "    }\n",
       "</style>\n",
       "<table border=\"1\" class=\"dataframe\">\n",
       "  <thead>\n",
       "    <tr style=\"text-align: right;\">\n",
       "      <th></th>\n",
       "      <th>Row Number</th>\n",
       "      <th>Order ID</th>\n",
       "      <th>Order Date</th>\n",
       "      <th>Delivery Date</th>\n",
       "      <th>Customer ID</th>\n",
       "      <th>Customer Name</th>\n",
       "      <th>City</th>\n",
       "      <th>Country</th>\n",
       "      <th>Postal Code</th>\n",
       "      <th>Country Code</th>\n",
       "      <th>Cost</th>\n",
       "      <th>Sales</th>\n",
       "      <th>Quantity</th>\n",
       "      <th>Discount</th>\n",
       "      <th>Delivery Cost</th>\n",
       "      <th>Course Name</th>\n",
       "      <th>Cuisine Name</th>\n",
       "      <th>Starter Name</th>\n",
       "      <th>Desert Name</th>\n",
       "      <th>Drink</th>\n",
       "      <th>Sides</th>\n",
       "    </tr>\n",
       "  </thead>\n",
       "  <tbody>\n",
       "    <tr>\n",
       "      <th>0</th>\n",
       "      <td>1</td>\n",
       "      <td>54-366-6861</td>\n",
       "      <td>6/15/20</td>\n",
       "      <td>3/26/20</td>\n",
       "      <td>72-055-7985</td>\n",
       "      <td>Laney Fadden</td>\n",
       "      <td>Daruoyan</td>\n",
       "      <td>China</td>\n",
       "      <td>993-0031</td>\n",
       "      <td>CN</td>\n",
       "      <td>125.0</td>\n",
       "      <td>187.5</td>\n",
       "      <td>2</td>\n",
       "      <td>20.00</td>\n",
       "      <td>60.51</td>\n",
       "      <td>Greek salad</td>\n",
       "      <td>Greek</td>\n",
       "      <td>Olives</td>\n",
       "      <td>Greek yoghurt</td>\n",
       "      <td>Athens White wine</td>\n",
       "      <td>Tapas</td>\n",
       "    </tr>\n",
       "    <tr>\n",
       "      <th>1</th>\n",
       "      <td>2</td>\n",
       "      <td>63-761-3686</td>\n",
       "      <td>8/25/20</td>\n",
       "      <td>7/17/20</td>\n",
       "      <td>65-353-0657</td>\n",
       "      <td>Giacopo Bramich</td>\n",
       "      <td>Ongjin</td>\n",
       "      <td>North Korea</td>\n",
       "      <td>216282</td>\n",
       "      <td>KP</td>\n",
       "      <td>235.0</td>\n",
       "      <td>352.5</td>\n",
       "      <td>1</td>\n",
       "      <td>15.00</td>\n",
       "      <td>96.75</td>\n",
       "      <td>Bean soup</td>\n",
       "      <td>Italian</td>\n",
       "      <td>Flatbread</td>\n",
       "      <td>Ice cream</td>\n",
       "      <td>Corfu Red Wine</td>\n",
       "      <td>Potato salad</td>\n",
       "    </tr>\n",
       "    <tr>\n",
       "      <th>2</th>\n",
       "      <td>3</td>\n",
       "      <td>65-351-6434</td>\n",
       "      <td>8/17/21</td>\n",
       "      <td>4/24/20</td>\n",
       "      <td>90-876-6799</td>\n",
       "      <td>Lia Bonar</td>\n",
       "      <td>Quince Mil</td>\n",
       "      <td>Peru</td>\n",
       "      <td>663246</td>\n",
       "      <td>PE</td>\n",
       "      <td>75.0</td>\n",
       "      <td>112.5</td>\n",
       "      <td>3</td>\n",
       "      <td>10.52</td>\n",
       "      <td>36.37</td>\n",
       "      <td>Pizza</td>\n",
       "      <td>Italian</td>\n",
       "      <td>Minestrone</td>\n",
       "      <td>Cheesecake</td>\n",
       "      <td>Italian Coffee</td>\n",
       "      <td>Bruschetta</td>\n",
       "    </tr>\n",
       "  </tbody>\n",
       "</table>\n",
       "</div>"
      ],
      "text/plain": [
       "   Row Number     Order ID Order Date Delivery Date  Customer ID  \\\n",
       "0           1  54-366-6861    6/15/20       3/26/20  72-055-7985   \n",
       "1           2  63-761-3686    8/25/20       7/17/20  65-353-0657   \n",
       "2           3  65-351-6434    8/17/21       4/24/20  90-876-6799   \n",
       "\n",
       "     Customer Name        City      Country Postal Code Country Code   Cost  \\\n",
       "0     Laney Fadden    Daruoyan        China    993-0031           CN  125.0   \n",
       "1  Giacopo Bramich      Ongjin  North Korea      216282           KP  235.0   \n",
       "2        Lia Bonar  Quince Mil         Peru      663246           PE   75.0   \n",
       "\n",
       "   Sales  Quantity  Discount  Delivery Cost  Course Name Cuisine Name  \\\n",
       "0  187.5         2     20.00          60.51  Greek salad        Greek   \n",
       "1  352.5         1     15.00          96.75    Bean soup      Italian   \n",
       "2  112.5         3     10.52          36.37        Pizza      Italian   \n",
       "\n",
       "  Starter Name    Desert Name              Drink         Sides  \n",
       "0       Olives  Greek yoghurt  Athens White wine         Tapas  \n",
       "1    Flatbread      Ice cream     Corfu Red Wine  Potato salad  \n",
       "2   Minestrone     Cheesecake     Italian Coffee    Bruschetta  "
      ]
     },
     "execution_count": 3,
     "metadata": {},
     "output_type": "execute_result"
    }
   ],
   "source": [
    "pd.set_option('display.max_columns', None)\n",
    "main_table.reset_index(drop=True)\n",
    "main_table.head(3)\n"
   ]
  },
  {
   "cell_type": "code",
   "execution_count": 4,
   "id": "f0ab230f",
   "metadata": {},
   "outputs": [
    {
     "data": {
      "text/plain": [
       "0    125.0\n",
       "1    235.0\n",
       "2     75.0\n",
       "Name: Cost, dtype: float64"
      ]
     },
     "execution_count": 4,
     "metadata": {},
     "output_type": "execute_result"
    }
   ],
   "source": [
    "#Changes the column name Cost to get rid of the leading space that come with the .CSV file\n",
    "main_table.rename(columns = {' Cost':'Cost'}, inplace = True)\n",
    "main_table['Cost'].head(3)"
   ]
  },
  {
   "cell_type": "markdown",
   "id": "5eba135f",
   "metadata": {},
   "source": [
    "## Create Orders, Customers, Menus, MenuItems tables from main_table"
   ]
  },
  {
   "cell_type": "code",
   "execution_count": 5,
   "id": "a8689167",
   "metadata": {},
   "outputs": [],
   "source": [
    "#Define column names for each table\n",
    "Customers_columns = ['Customer ID','Customer Name']\n",
    "Orders_columns = ['Order ID','Customer ID','Cost','Sales','Quantity','Discount','Delivery Cost']\n",
    "Menus_columns = ['Course Name','Cuisine Name']\n",
    "MenuItems_columns = ['Course Name','Starter Name','Desert Name','Drink','Sides']\n"
   ]
  },
  {
   "cell_type": "code",
   "execution_count": 6,
   "id": "9206b1c0",
   "metadata": {},
   "outputs": [
    {
     "name": "stdout",
     "output_type": "stream",
     "text": [
      "21000\n",
      "1000\n"
     ]
    },
    {
     "data": {
      "text/html": [
       "<div>\n",
       "<style scoped>\n",
       "    .dataframe tbody tr th:only-of-type {\n",
       "        vertical-align: middle;\n",
       "    }\n",
       "\n",
       "    .dataframe tbody tr th {\n",
       "        vertical-align: top;\n",
       "    }\n",
       "\n",
       "    .dataframe thead th {\n",
       "        text-align: right;\n",
       "    }\n",
       "</style>\n",
       "<table border=\"1\" class=\"dataframe\">\n",
       "  <thead>\n",
       "    <tr style=\"text-align: right;\">\n",
       "      <th></th>\n",
       "      <th>Customer ID</th>\n",
       "      <th>Customer Name</th>\n",
       "    </tr>\n",
       "  </thead>\n",
       "  <tbody>\n",
       "    <tr>\n",
       "      <th>0</th>\n",
       "      <td>00-090-3491</td>\n",
       "      <td>Bradford Rafe</td>\n",
       "    </tr>\n",
       "    <tr>\n",
       "      <th>1</th>\n",
       "      <td>00-352-9063</td>\n",
       "      <td>Sharon Lazare</td>\n",
       "    </tr>\n",
       "    <tr>\n",
       "      <th>2</th>\n",
       "      <td>00-381-6823</td>\n",
       "      <td>Eba Harriagn</td>\n",
       "    </tr>\n",
       "    <tr>\n",
       "      <th>3</th>\n",
       "      <td>00-435-7006</td>\n",
       "      <td>Silas Asson</td>\n",
       "    </tr>\n",
       "    <tr>\n",
       "      <th>4</th>\n",
       "      <td>00-689-5519</td>\n",
       "      <td>Jill O'Sirin</td>\n",
       "    </tr>\n",
       "  </tbody>\n",
       "</table>\n",
       "</div>"
      ],
      "text/plain": [
       "   Customer ID  Customer Name\n",
       "0  00-090-3491  Bradford Rafe\n",
       "1  00-352-9063  Sharon Lazare\n",
       "2  00-381-6823   Eba Harriagn\n",
       "3  00-435-7006    Silas Asson\n",
       "4  00-689-5519   Jill O'Sirin"
      ]
     },
     "execution_count": 6,
     "metadata": {},
     "output_type": "execute_result"
    }
   ],
   "source": [
    "#Populate data into Customers table\n",
    "Customers = main_table.loc[0:,Customers_columns]\n",
    "print(len(Customers))\n",
    "\n",
    "# Sorting by Customer ID\n",
    "Customers.sort_values('Customer ID', inplace=True)\n",
    "\n",
    "# Dropping the duplicated Customer ID \n",
    "Customers.drop_duplicates(subset='Customer ID',\n",
    "                     keep='first', inplace=True)\n",
    "\n",
    "print(len(Customers))\n",
    "Customers.reset_index(drop=True,inplace=True)\n",
    "Customers.head(5)"
   ]
  },
  {
   "cell_type": "code",
   "execution_count": 7,
   "id": "6adcb0a8",
   "metadata": {},
   "outputs": [
    {
     "name": "stdout",
     "output_type": "stream",
     "text": [
      "21000\n",
      "1000\n"
     ]
    },
    {
     "data": {
      "text/html": [
       "<div>\n",
       "<style scoped>\n",
       "    .dataframe tbody tr th:only-of-type {\n",
       "        vertical-align: middle;\n",
       "    }\n",
       "\n",
       "    .dataframe tbody tr th {\n",
       "        vertical-align: top;\n",
       "    }\n",
       "\n",
       "    .dataframe thead th {\n",
       "        text-align: right;\n",
       "    }\n",
       "</style>\n",
       "<table border=\"1\" class=\"dataframe\">\n",
       "  <thead>\n",
       "    <tr style=\"text-align: right;\">\n",
       "      <th></th>\n",
       "      <th>Order ID</th>\n",
       "      <th>Customer ID</th>\n",
       "      <th>Cost</th>\n",
       "      <th>Sales</th>\n",
       "      <th>Quantity</th>\n",
       "      <th>Discount</th>\n",
       "      <th>Delivery Cost</th>\n",
       "    </tr>\n",
       "  </thead>\n",
       "  <tbody>\n",
       "    <tr>\n",
       "      <th>0</th>\n",
       "      <td>00-008-3271</td>\n",
       "      <td>50-245-9029</td>\n",
       "      <td>168.27</td>\n",
       "      <td>252.405</td>\n",
       "      <td>2</td>\n",
       "      <td>10.00</td>\n",
       "      <td>22.25</td>\n",
       "    </tr>\n",
       "    <tr>\n",
       "      <th>1</th>\n",
       "      <td>00-283-3544</td>\n",
       "      <td>07-369-4272</td>\n",
       "      <td>93.13</td>\n",
       "      <td>139.695</td>\n",
       "      <td>2</td>\n",
       "      <td>47.84</td>\n",
       "      <td>45.51</td>\n",
       "    </tr>\n",
       "    <tr>\n",
       "      <th>2</th>\n",
       "      <td>00-350-1396</td>\n",
       "      <td>39-459-6791</td>\n",
       "      <td>235.00</td>\n",
       "      <td>352.500</td>\n",
       "      <td>1</td>\n",
       "      <td>10.00</td>\n",
       "      <td>81.13</td>\n",
       "    </tr>\n",
       "    <tr>\n",
       "      <th>3</th>\n",
       "      <td>00-451-8857</td>\n",
       "      <td>11-253-6502</td>\n",
       "      <td>210.00</td>\n",
       "      <td>315.000</td>\n",
       "      <td>1</td>\n",
       "      <td>98.01</td>\n",
       "      <td>48.81</td>\n",
       "    </tr>\n",
       "    <tr>\n",
       "      <th>4</th>\n",
       "      <td>00-465-7031</td>\n",
       "      <td>84-300-6499</td>\n",
       "      <td>320.00</td>\n",
       "      <td>480.000</td>\n",
       "      <td>3</td>\n",
       "      <td>97.48</td>\n",
       "      <td>95.63</td>\n",
       "    </tr>\n",
       "  </tbody>\n",
       "</table>\n",
       "</div>"
      ],
      "text/plain": [
       "      Order ID  Customer ID    Cost    Sales  Quantity  Discount  \\\n",
       "0  00-008-3271  50-245-9029  168.27  252.405         2     10.00   \n",
       "1  00-283-3544  07-369-4272   93.13  139.695         2     47.84   \n",
       "2  00-350-1396  39-459-6791  235.00  352.500         1     10.00   \n",
       "3  00-451-8857  11-253-6502  210.00  315.000         1     98.01   \n",
       "4  00-465-7031  84-300-6499  320.00  480.000         3     97.48   \n",
       "\n",
       "   Delivery Cost  \n",
       "0          22.25  \n",
       "1          45.51  \n",
       "2          81.13  \n",
       "3          48.81  \n",
       "4          95.63  "
      ]
     },
     "execution_count": 7,
     "metadata": {},
     "output_type": "execute_result"
    }
   ],
   "source": [
    "#Populate data into Orders table\n",
    "#Orders can be duplicated no need to drop\n",
    "Orders = main_table.loc[0:,Orders_columns]\n",
    "print(len(Orders))\n",
    "\n",
    "# Sorting by Order ID\n",
    "Orders.sort_values('Order ID', inplace=True)\n",
    "\n",
    "# Dropping the duplicated Order ID \n",
    "Orders.drop_duplicates(subset='Order ID',\n",
    "                     keep='first', inplace=True)\n",
    "\n",
    "print(len(Orders))\n",
    "Orders.reset_index(drop=True,inplace=True)\n",
    "Orders.head(5)"
   ]
  },
  {
   "cell_type": "code",
   "execution_count": 8,
   "id": "48b24d05",
   "metadata": {},
   "outputs": [
    {
     "name": "stdout",
     "output_type": "stream",
     "text": [
      "21000\n",
      "6\n"
     ]
    },
    {
     "data": {
      "text/html": [
       "<div>\n",
       "<style scoped>\n",
       "    .dataframe tbody tr th:only-of-type {\n",
       "        vertical-align: middle;\n",
       "    }\n",
       "\n",
       "    .dataframe tbody tr th {\n",
       "        vertical-align: top;\n",
       "    }\n",
       "\n",
       "    .dataframe thead th {\n",
       "        text-align: right;\n",
       "    }\n",
       "</style>\n",
       "<table border=\"1\" class=\"dataframe\">\n",
       "  <thead>\n",
       "    <tr style=\"text-align: right;\">\n",
       "      <th></th>\n",
       "      <th>Course Name</th>\n",
       "      <th>Cuisine Name</th>\n",
       "      <th>MenuID</th>\n",
       "    </tr>\n",
       "  </thead>\n",
       "  <tbody>\n",
       "    <tr>\n",
       "      <th>0</th>\n",
       "      <td>Bean soup</td>\n",
       "      <td>Turkish</td>\n",
       "      <td>1</td>\n",
       "    </tr>\n",
       "    <tr>\n",
       "      <th>1</th>\n",
       "      <td>Carbonara</td>\n",
       "      <td>Italian</td>\n",
       "      <td>2</td>\n",
       "    </tr>\n",
       "    <tr>\n",
       "      <th>2</th>\n",
       "      <td>Greek salad</td>\n",
       "      <td>Greek</td>\n",
       "      <td>3</td>\n",
       "    </tr>\n",
       "    <tr>\n",
       "      <th>3</th>\n",
       "      <td>Kabasa</td>\n",
       "      <td>Italian</td>\n",
       "      <td>4</td>\n",
       "    </tr>\n",
       "    <tr>\n",
       "      <th>4</th>\n",
       "      <td>Pizza</td>\n",
       "      <td>Italian</td>\n",
       "      <td>5</td>\n",
       "    </tr>\n",
       "  </tbody>\n",
       "</table>\n",
       "</div>"
      ],
      "text/plain": [
       "   Course Name Cuisine Name  MenuID\n",
       "0    Bean soup      Turkish       1\n",
       "1    Carbonara      Italian       2\n",
       "2  Greek salad        Greek       3\n",
       "3       Kabasa      Italian       4\n",
       "4        Pizza      Italian       5"
      ]
     },
     "execution_count": 8,
     "metadata": {},
     "output_type": "execute_result"
    }
   ],
   "source": [
    "#Populate data into Menus table\n",
    "Menus = main_table.loc[0:,Menus_columns]\n",
    "print(len(Menus))\n",
    "\n",
    "# Sorting by Course name\n",
    "Menus.sort_values('Course Name', inplace=True)\n",
    "\n",
    "# Dropping duplicate Course names\n",
    "Menus.drop_duplicates(subset='Course Name',\n",
    "                     keep='first', inplace=True)\n",
    "print(len(Menus))\n",
    "\n",
    "#Reset index\n",
    "Menus.reset_index(drop=True,inplace=True)\n",
    "\n",
    "#Add sourced index to MenuID (no duplicate) and start from 1\n",
    "Menus['MenuID'] = Menus.index+1\n",
    "\n",
    "Menus.head()"
   ]
  },
  {
   "cell_type": "code",
   "execution_count": 9,
   "id": "5f9922a5",
   "metadata": {},
   "outputs": [
    {
     "data": {
      "text/html": [
       "<div>\n",
       "<style scoped>\n",
       "    .dataframe tbody tr th:only-of-type {\n",
       "        vertical-align: middle;\n",
       "    }\n",
       "\n",
       "    .dataframe tbody tr th {\n",
       "        vertical-align: top;\n",
       "    }\n",
       "\n",
       "    .dataframe thead th {\n",
       "        text-align: right;\n",
       "    }\n",
       "</style>\n",
       "<table border=\"1\" class=\"dataframe\">\n",
       "  <thead>\n",
       "    <tr style=\"text-align: right;\">\n",
       "      <th></th>\n",
       "      <th>Course Name</th>\n",
       "      <th>Starter Name</th>\n",
       "      <th>Desert Name</th>\n",
       "      <th>Drink</th>\n",
       "      <th>Sides</th>\n",
       "      <th>MenuItemsID</th>\n",
       "    </tr>\n",
       "  </thead>\n",
       "  <tbody>\n",
       "    <tr>\n",
       "      <th>0</th>\n",
       "      <td>Greek salad</td>\n",
       "      <td>Olives</td>\n",
       "      <td>Greek yoghurt</td>\n",
       "      <td>Athens White wine</td>\n",
       "      <td>Tapas</td>\n",
       "      <td>1</td>\n",
       "    </tr>\n",
       "    <tr>\n",
       "      <th>1</th>\n",
       "      <td>Bean soup</td>\n",
       "      <td>Flatbread</td>\n",
       "      <td>Ice cream</td>\n",
       "      <td>Corfu Red Wine</td>\n",
       "      <td>Potato salad</td>\n",
       "      <td>2</td>\n",
       "    </tr>\n",
       "    <tr>\n",
       "      <th>2</th>\n",
       "      <td>Pizza</td>\n",
       "      <td>Minestrone</td>\n",
       "      <td>Cheesecake</td>\n",
       "      <td>Italian Coffee</td>\n",
       "      <td>Bruschetta</td>\n",
       "      <td>3</td>\n",
       "    </tr>\n",
       "    <tr>\n",
       "      <th>3</th>\n",
       "      <td>Carbonara</td>\n",
       "      <td>Tomato bread</td>\n",
       "      <td>Affogato</td>\n",
       "      <td>Roma Red wine</td>\n",
       "      <td>Focaccia</td>\n",
       "      <td>4</td>\n",
       "    </tr>\n",
       "    <tr>\n",
       "      <th>4</th>\n",
       "      <td>Kabasa</td>\n",
       "      <td>Falafel</td>\n",
       "      <td>Turkish yoghurt</td>\n",
       "      <td>Ankara White Wine</td>\n",
       "      <td>Meatballs</td>\n",
       "      <td>5</td>\n",
       "    </tr>\n",
       "  </tbody>\n",
       "</table>\n",
       "</div>"
      ],
      "text/plain": [
       "   Course Name  Starter Name      Desert Name              Drink  \\\n",
       "0  Greek salad        Olives    Greek yoghurt  Athens White wine   \n",
       "1    Bean soup     Flatbread        Ice cream     Corfu Red Wine   \n",
       "2        Pizza    Minestrone       Cheesecake     Italian Coffee   \n",
       "3    Carbonara  Tomato bread         Affogato      Roma Red wine   \n",
       "4       Kabasa       Falafel  Turkish yoghurt  Ankara White Wine   \n",
       "\n",
       "          Sides  MenuItemsID  \n",
       "0         Tapas            1  \n",
       "1  Potato salad            2  \n",
       "2    Bruschetta            3  \n",
       "3      Focaccia            4  \n",
       "4     Meatballs            5  "
      ]
     },
     "execution_count": 9,
     "metadata": {},
     "output_type": "execute_result"
    }
   ],
   "source": [
    "#Populate data into MenuItems table\n",
    "MenuItems = main_table.loc[0:,MenuItems_columns]\n",
    "\n",
    "#Add sourced index to MenuItemID (no duplicate) and start from 1\n",
    "MenuItems['MenuItemsID'] = MenuItems.index+1\n",
    "\n",
    "MenuItems.head(5)"
   ]
  },
  {
   "cell_type": "markdown",
   "id": "0a78617b",
   "metadata": {},
   "source": [
    "# Insert data from each table into the table in the database"
   ]
  },
  {
   "cell_type": "code",
   "execution_count": 34,
   "id": "ddfae933",
   "metadata": {},
   "outputs": [
    {
     "name": "stdout",
     "output_type": "stream",
     "text": [
      "[('Customers',), ('MenuItems',), ('Menus',), ('Orders',)]\n"
     ]
    }
   ],
   "source": [
    "# Import mysql connector and connect to the data base\n",
    "import mysql.connector as connector\n",
    "\n",
    "connection=connector.connect(user=\"root\",password=\"\")\n",
    "\n",
    "cursor=connection.cursor()\n",
    "cursor.execute(\"USE LittleLemonDB;\")\n",
    "cursor.execute(\"SHOW TABLES;\")\n",
    "results = cursor.fetchall()\n",
    "\n",
    "print(results)\n"
   ]
  },
  {
   "cell_type": "code",
   "execution_count": 11,
   "id": "38214977",
   "metadata": {},
   "outputs": [],
   "source": [
    "#Insert data into Customers table\n",
    "for index,column in Customers.iterrows():\n",
    "    \n",
    "    insert_query = '''INSERT INTO Customers (CustomerID,CustomerName)\n",
    "    VALUES\n",
    "    (\"{}\",\"{}\");'''.format(column['Customer ID'],column['Customer Name'])\n",
    "    \n",
    "    cursor.execute(insert_query)\n",
    "    connection.commit()\n"
   ]
  },
  {
   "cell_type": "code",
   "execution_count": 12,
   "id": "9dbf8546",
   "metadata": {},
   "outputs": [],
   "source": [
    "#Insert data into Menus table\n",
    "for index,column in Menus.iterrows():\n",
    "    \n",
    "    insert_query = '''INSERT INTO Menus (CourseName,CuisineName,MenuID)\n",
    "    VALUES\n",
    "    (\"{}\",\"{}\",{});'''.format(column['Course Name'],column['Cuisine Name'],column['MenuID'])\n",
    "    \n",
    "    cursor.execute(insert_query)\n",
    "    connection.commit()"
   ]
  },
  {
   "cell_type": "code",
   "execution_count": 13,
   "id": "f20c224f",
   "metadata": {},
   "outputs": [],
   "source": [
    "#Insert data into MenuItems table\n",
    "for index,column in MenuItems.iterrows():\n",
    "    \n",
    "    insert_query = '''INSERT INTO MenuItems (CourseName,StarterName,DesertName,Drink,Sides,MenuItemsID)\n",
    "    VALUES\n",
    "    (\"{}\",\"{}\",\"{}\",\"{}\",\"{}\",{});'''.format(column['Course Name'],column['Starter Name'],\n",
    "                                             column['Desert Name'],column['Drink'],\n",
    "                                             column['Sides'],column['MenuItemsID'])\n",
    "    \n",
    "    cursor.execute(insert_query)\n",
    "    connection.commit()"
   ]
  },
  {
   "cell_type": "code",
   "execution_count": 14,
   "id": "06eaf2b1",
   "metadata": {},
   "outputs": [],
   "source": [
    "#Insert data into Orders table\n",
    "for index,column in Orders.iterrows():\n",
    "    \n",
    "    insert_query = '''INSERT INTO Orders (OrderID,CustomerID,Cost,Sales,Quantity,Discount,DeliveryCost)\n",
    "    VALUES\n",
    "    (\"{}\",\"{}\",{},{},{},{},{});'''.format(column['Order ID'],column['Customer ID'],\n",
    "                                             column['Cost'],column['Sales'],\n",
    "                                             column['Quantity'],column['Discount'],\n",
    "                                             column['Delivery Cost'])\n",
    "    \n",
    "    cursor.execute(insert_query)\n",
    "    connection.commit()"
   ]
  },
  {
   "cell_type": "markdown",
   "id": "9acc87ae",
   "metadata": {},
   "source": [
    "## Check if the data insert to the tables successfully"
   ]
  },
  {
   "cell_type": "code",
   "execution_count": 35,
   "id": "5278d866",
   "metadata": {},
   "outputs": [
    {
     "name": "stdout",
     "output_type": "stream",
     "text": [
      "('CustomerID', 'CustomerName')\n",
      "('00-090-3491', 'Bradford Rafe')\n",
      "('00-352-9063', 'Sharon Lazare')\n",
      "('00-381-6823', 'Eba Harriagn')\n",
      "('00-435-7006', 'Silas Asson')\n",
      "('00-689-5519', \"Jill O'Sirin\")\n"
     ]
    }
   ],
   "source": [
    "#Check data in Customers table. Print only first 5 records.\n",
    "cursor.execute(\"SELECT * FROM Customers;\")\n",
    "results = cursor.fetchall()\n",
    "print(cursor.column_names)\n",
    "for i in range(5):\n",
    "    print(results[i])\n",
    "    "
   ]
  },
  {
   "cell_type": "code",
   "execution_count": 36,
   "id": "4b5b9111",
   "metadata": {},
   "outputs": [
    {
     "name": "stdout",
     "output_type": "stream",
     "text": [
      "('CourseName', 'CuisineName', 'MenuID')\n",
      "('Bean soup', 'Turkish', 1)\n",
      "('Carbonara', 'Italian', 2)\n",
      "('Greek salad', 'Greek', 3)\n",
      "('Kabasa', 'Italian', 4)\n",
      "('Pizza', 'Italian', 5)\n"
     ]
    }
   ],
   "source": [
    "#Check data in Menus table. Print only first 5 records.\n",
    "cursor.execute(\"SELECT * FROM Menus;\")\n",
    "results = cursor.fetchall()\n",
    "print(cursor.column_names)\n",
    "for i in range(5):\n",
    "    print(results[i])"
   ]
  },
  {
   "cell_type": "code",
   "execution_count": 37,
   "id": "f6b2b29b",
   "metadata": {},
   "outputs": [
    {
     "name": "stdout",
     "output_type": "stream",
     "text": [
      "('CourseName', 'StarterName', 'DesertName', 'Drink', 'Sides', 'MenuItemsID')\n",
      "('Greek salad', 'Olives', 'Greek yoghurt', 'Athens White wine', 'Tapas', 1)\n",
      "('Bean soup', 'Flatbread', 'Ice cream', 'Corfu Red Wine', 'Potato salad', 2)\n",
      "('Pizza', 'Minestrone', 'Cheesecake', 'Italian Coffee', 'Bruschetta', 3)\n",
      "('Carbonara', 'Tomato bread', 'Affogato', 'Roma Red wine', 'Focaccia', 4)\n",
      "('Kabasa', 'Falafel', 'Turkish yoghurt', 'Ankara White Wine', 'Meatballs', 5)\n"
     ]
    }
   ],
   "source": [
    "#Check data in MenuItems table. Print only first 5 records.\n",
    "cursor.execute(\"SELECT * FROM MenuItems;\")\n",
    "results = cursor.fetchall()\n",
    "print(cursor.column_names)\n",
    "for i in range(5):\n",
    "    print(results[i])"
   ]
  },
  {
   "cell_type": "code",
   "execution_count": 38,
   "id": "e851d6fc",
   "metadata": {},
   "outputs": [
    {
     "name": "stdout",
     "output_type": "stream",
     "text": [
      "('OrderID', 'CustomerID', 'Cost', 'Sales', 'Quantity', 'Discount', 'DeliveryCost')\n",
      "('00-008-3271', '50-245-9029', Decimal('168.27'), Decimal('252.41'), 2, Decimal('10.00'), Decimal('22.25'))\n",
      "('00-283-3544', '07-369-4272', Decimal('93.13'), Decimal('139.70'), 2, Decimal('47.84'), Decimal('45.51'))\n",
      "('00-350-1396', '39-459-6791', Decimal('235.00'), Decimal('352.50'), 1, Decimal('10.00'), Decimal('81.13'))\n",
      "('00-451-8857', '11-253-6502', Decimal('210.00'), Decimal('315.00'), 1, Decimal('98.01'), Decimal('48.81'))\n",
      "('00-465-7031', '84-300-6499', Decimal('320.00'), Decimal('480.00'), 3, Decimal('97.48'), Decimal('95.63'))\n"
     ]
    }
   ],
   "source": [
    "#Check data in Orders table. Print only first 5 records.\n",
    "cursor.execute(\"SELECT * FROM Orders;\")\n",
    "results = cursor.fetchall()\n",
    "print(cursor.column_names)\n",
    "for i in range(5):\n",
    "    print(results[i])"
   ]
  },
  {
   "cell_type": "code",
   "execution_count": null,
   "id": "6c357541",
   "metadata": {},
   "outputs": [],
   "source": []
  }
 ],
 "metadata": {
  "kernelspec": {
   "display_name": "Python 3 (ipykernel)",
   "language": "python",
   "name": "python3"
  },
  "language_info": {
   "codemirror_mode": {
    "name": "ipython",
    "version": 3
   },
   "file_extension": ".py",
   "mimetype": "text/x-python",
   "name": "python",
   "nbconvert_exporter": "python",
   "pygments_lexer": "ipython3",
   "version": "3.10.11"
  }
 },
 "nbformat": 4,
 "nbformat_minor": 5
}
